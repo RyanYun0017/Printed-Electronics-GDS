{
 "cells": [
  {
   "cell_type": "code",
   "execution_count": 1,
   "metadata": {},
   "outputs": [],
   "source": [
    "import gdspy\n",
    "import time\n",
    "\n",
    "cell = gdspy.Cell('top')\n",
    "Org = {'layer': 1, 'datatype': 0}\n",
    "CDwindow = {'layer': 2, 'datatype': 0}\n"
   ]
  },
  {
   "cell_type": "markdown",
   "metadata": {},
   "source": [
    "#########################################################################################################\n",
    "# define arrays\n",
    "# 01-TGAP ------------------------------------------------------------------------------------"
   ]
  },
  {
   "cell_type": "code",
   "execution_count": 2,
   "metadata": {},
   "outputs": [],
   "source": [
    "def TGAParray(L, W, G, W_range,G_range, startx, starty,text='WHAT'):\n",
    "\n",
    "    for x in range(0,W_range):\n",
    "        for y in range(0, G_range):\n",
    "            x_c=startx + x*10\n",
    "            y_c=starty + y*10\n",
    "\n",
    "            rect1 = gdspy.Rectangle((x_c-L-G/2, y_c-W/2), (x_c-G/2, y_c+W/2))\n",
    "            rect2 = gdspy.Rectangle((x_c+G/2, y_c-L/2), (x_c+G/2+W, y_c+L/2))\n",
    "            cell.add(rect1)\n",
    "            cell.add(rect2)"
   ]
  },
  {
   "cell_type": "code",
   "execution_count": 10,
   "metadata": {},
   "outputs": [],
   "source": [
    "# 01.1 resistor array \n",
    "\n",
    "def ResistorArray(L,W,G,start_x,start_y,text = 'TEXT'):\n",
    "    x_c = start_x + 10\n",
    "    y_c = start_y + 10\n",
    "\n",
    "    rect_efft_left = gdspy.Rectangle((x_c-G/2,y_c-L/2),(x_c-G/2-W,y_c+L/2))\n",
    "    rect_pad_topleft = gdspy.Rectangle((x_c-W-G/2,y_c+L/2-2000),(x_c-W-G/2-2000,y_c+L/2))\n",
    "\n",
    "    cell.add(rect_efft_left)\n",
    "    cell.add(rect_pad_topleft)\n",
    "\n"
   ]
  },
  {
   "cell_type": "code",
   "execution_count": 12,
   "metadata": {},
   "outputs": [
    {
     "data": {
      "text/plain": [
       "<gdspy.library.Cell at 0x263b0234ca0>"
      ]
     },
     "execution_count": 12,
     "metadata": {},
     "output_type": "execute_result"
    }
   ],
   "source": [
    "cell.remove_polygons(lambda pts,layer,datatype: any(pts[:,0] > -20))"
   ]
  },
  {
   "cell_type": "code",
   "execution_count": 13,
   "metadata": {},
   "outputs": [
    {
     "name": "stderr",
     "output_type": "stream",
     "text": [
      "C:\\Users\\My\\AppData\\Local\\Temp\\ipykernel_33596\\1312026100.py:1: DeprecationWarning: [GDSPY] Use of the global library is deprecated.  Pass LayoutViewer a GdsLibrary instance.\n",
      "  gdspy.LayoutViewer()\n"
     ]
    },
    {
     "data": {
      "text/plain": [
       "<gdspy.viewer.LayoutViewer object .!layoutviewer>"
      ]
     },
     "execution_count": 13,
     "metadata": {},
     "output_type": "execute_result"
    }
   ],
   "source": [
    "gdspy.LayoutViewer()"
   ]
  },
  {
   "cell_type": "code",
   "execution_count": 11,
   "metadata": {},
   "outputs": [],
   "source": [
    "## Test\n",
    "\n",
    "ResistorArray(6000,1000,200,0,0)\n",
    "\n",
    "gdspy.write_gds('resistor_test1.gds')\n",
    "\n"
   ]
  },
  {
   "cell_type": "markdown",
   "metadata": {},
   "source": [
    "# 02-DTGAP ------------------------------------------------------------------------------------"
   ]
  },
  {
   "cell_type": "code",
   "execution_count": 3,
   "metadata": {},
   "outputs": [],
   "source": [
    "def DTGAParray(L, W, G, P, W_range, G_range, startx, starty,text='WHAT'):\n",
    "\n",
    "    for x in range(0,W_range):\n",
    "        for y in range(0, G_range):\n",
    "            x_c=startx + x*10\n",
    "            y_c=starty + y*10\n",
    "\n",
    "            rect1 = gdspy.Rectangle((x_c-L-G/2, y_c-W/2+P/2), (x_c-G/2, y_c+W/2+P/2))\n",
    "            rect2 = gdspy.Rectangle((x_c+G/2, y_c-L/2), (x_c+G/2+W, y_c+L/2))\n",
    "            rect3 = gdspy.Rectangle((x_c-L-G/2, y_c-W/2-P/2), (x_c-G/2, y_c+W/2-P/2))\n",
    "\n",
    "            cell.add(rect1)\n",
    "            cell.add(rect2)\n",
    "            cell.add(rect3)"
   ]
  },
  {
   "cell_type": "markdown",
   "metadata": {},
   "source": [
    "# 03-TTGAP ------------------------------------------------------------------------------------"
   ]
  },
  {
   "cell_type": "code",
   "execution_count": null,
   "metadata": {},
   "outputs": [],
   "source": [
    "def TTGAParray(L, W, G, P, W_range, G_range, startx, starty,text='WHAT'):\n",
    "\n",
    "    for x in range(0,W_range):\n",
    "        for y in range(0, G_range):\n",
    "            x_c=startx + x*10\n",
    "            y_c=starty + y*10\n",
    "\n",
    "            rect1 = gdspy.Rectangle((x_c-L-G/2, y_c-W/2), (x_c-G/2, y_c+W/2))\n",
    "            rect2 = gdspy.Rectangle((x_c+G/2, y_c-L/2), (x_c+G/2+W, y_c+L/2))\n",
    "            rect3 = gdspy.Rectangle((x_c - L - G / 2, y_c - W / 2 + P),\n",
    "                                    (x_c - G / 2, y_c + W / 2 + P))\n",
    "            rect4 = gdspy.Rectangle((x_c - L - G / 2, y_c - W / 2 - P),\n",
    "                                    (x_c - G / 2, y_c + W / 2 - P))\n",
    "\n",
    "\n",
    "            cell.add(rect1)\n",
    "            cell.add(rect2)\n",
    "            cell.add(rect3)\n",
    "            cell.add(rect4)"
   ]
  },
  {
   "cell_type": "markdown",
   "metadata": {},
   "source": [
    "# 04-FLG ------------------------------------------------------------------------------------"
   ]
  },
  {
   "cell_type": "code",
   "execution_count": null,
   "metadata": {},
   "outputs": [],
   "source": [
    "def FLGarray(L, W, G, P, W_range, G_range, startx, starty,text='WHAT'):\n",
    "\n",
    "    for x in range(0,W_range):\n",
    "        for y in range(0, G_range):\n",
    "            x_c=startx + x*10\n",
    "            y_c=starty + y*10\n",
    "\n",
    "            rect1 = gdspy.Rectangle((x_c-L, y_c-W/2), (x_c+1.5, y_c+W/2))\n",
    "            rect2 = gdspy.Rectangle((x_c - L , y_c - W / 2 + P), (x_c , y_c + W / 2+ P))\n",
    "            rect3 = gdspy.Rectangle((x_c - L , y_c - W / 2 + 2*P), (x_c , y_c + W / 2+ 2*P))\n",
    "            rect4 = gdspy.Rectangle((x_c - L, y_c - W / 2 - P), (x_c , y_c + W / 2 - P))\n",
    "            rect5 = gdspy.Rectangle((x_c - L , y_c - W / 2 - 2*P), (x_c, y_c + W / 2 - 2*P))\n",
    "\n",
    "\n",
    "            cell.add(rect1)\n",
    "            cell.add(rect2)\n",
    "            cell.add(rect3)\n",
    "            cell.add(rect4)\n",
    "            cell.add(rect5)"
   ]
  },
  {
   "cell_type": "markdown",
   "metadata": {},
   "source": [
    "# 05-TCL ------------------------------------------------------------------------------------"
   ]
  },
  {
   "cell_type": "code",
   "execution_count": null,
   "metadata": {},
   "outputs": [],
   "source": [
    "def TCLarray(L, W, G, P, W_range, G_range, startx, starty,text='WHAT'):\n",
    "\n",
    "    for x in range(0,W_range):\n",
    "        for y in range(0, G_range):\n",
    "            x_c=startx + x*10\n",
    "            y_c=starty + y*10\n",
    "\n",
    "            rect1 = gdspy.Rectangle((x_c-4*W, y_c-4*W), (x_c-4*W+L, y_c - 3*W))\n",
    "            rect2 = gdspy.Rectangle((x_c - 4 * W, y_c - 4 * W), (x_c - 3 * W, y_c - 4 * W + L))\n",
    "\n",
    "            rect3 = gdspy.Rectangle((x_c - 4 * W + P, y_c - 4 * W + P), (x_c - 4 * W + L, y_c - 3 * W + P))\n",
    "            rect4 = gdspy.Rectangle((x_c - 4 * W + P, y_c - 4 * W + P), (x_c - 3 * W + P, y_c - 4 * W + L))\n",
    "\n",
    "            rect5= gdspy.Rectangle((x_c - 4 * W + 2 * P, y_c - 4 * W + 2 * P),\n",
    "                                    (x_c - 4 * W + L, y_c - 3 * W + 2 * P))\n",
    "\n",
    "            rect6 = gdspy.Rectangle((x_c - 4 * W + 2 * P, y_c - 4 * W + 2 * P), (x_c - 3 * W + 2 * P, y_c - 4 * W + L))\n",
    "\n",
    "\n",
    "            cell.add(rect1)\n",
    "            cell.add(rect2)\n",
    "\n",
    "            cell.add(rect3)\n",
    "            cell.add(rect4)\n",
    "\n",
    "            cell.add(rect5)\n",
    "            cell.add(rect6)\n"
   ]
  },
  {
   "cell_type": "markdown",
   "metadata": {},
   "source": [
    "# 06-UL ------------------------------------------------------------------------------------"
   ]
  },
  {
   "cell_type": "code",
   "execution_count": null,
   "metadata": {},
   "outputs": [],
   "source": [
    "def ULarray(L, W, G, P, W_range, G_range, startx, starty,text='WHAT'):\n",
    "\n",
    "    for x in range(0,W_range):\n",
    "        for y in range(0, G_range):\n",
    "            x_c=startx + x*10\n",
    "            y_c=starty + y*10\n",
    "\n",
    "            rect1 = gdspy.Rectangle((x_c - W / 2, y_c - L/2 + G + W), (x_c+W/2, y_c+L/2))\n",
    "            rect2 = gdspy.Rectangle((x_c - W / 2 + P, y_c - L / 2), (x_c + W /2 + P, y_c + L / 2 -0.3*L))\n",
    "            rect3 = gdspy.Rectangle((x_c - W / 2 - P, y_c - L / 2), (x_c + W / 2 - P, y_c + L / 2 -0.3*L))\n",
    "\n",
    "            rect4 = gdspy.Rectangle((x_c - W / 2 - P, y_c - L / 2 ),\n",
    "                                    (x_c + W / 2 + W + W, y_c - L / 2 + W))\n",
    "            cell.add(rect1)\n",
    "            cell.add(rect2)\n",
    "            cell.add(rect3)\n",
    "            cell.add(rect4)"
   ]
  },
  {
   "cell_type": "markdown",
   "metadata": {},
   "source": [
    "# 07-ETE ------------------------------------------------------------------------------------"
   ]
  },
  {
   "cell_type": "code",
   "execution_count": null,
   "metadata": {},
   "outputs": [],
   "source": [
    "def ETEarray(L, W, G, W_range,G_range, startx, starty,text='WHAT'):\n",
    "\n",
    "    for x in range(0,W_range):\n",
    "        for y in range(0, G_range):\n",
    "            x_c=startx + x*10\n",
    "            y_c=starty + y*10\n",
    "\n",
    "            rect1 = gdspy.Rectangle((x_c-L-G/2, y_c-W/2), (x_c-G/2, y_c+W/2))\n",
    "            rect2 = gdspy.Rectangle((x_c+G/2, y_c-W/2), (x_c+G/2+L, y_c+W/2))\n",
    "\n",
    "\n",
    "\n",
    "            cell.add(rect1)\n",
    "            cell.add(rect2)"
   ]
  },
  {
   "cell_type": "markdown",
   "metadata": {},
   "source": [
    "# 08-TETE ------------------------------------------------------------------------------------"
   ]
  },
  {
   "cell_type": "code",
   "execution_count": null,
   "metadata": {},
   "outputs": [],
   "source": [
    "def TETEarray(L, W, G, P, W_range, G_range, startx, starty,text='WHAT'):\n",
    "\n",
    "    for x in range(0,W_range):\n",
    "        for y in range(0, G_range):\n",
    "            x_c=startx + x*10\n",
    "            y_c=starty + y*10\n",
    "\n",
    "            rect1 = gdspy.Rectangle((x_c - L - G / 2, y_c - W / 2), (x_c - G / 2, y_c + W / 2))\n",
    "            rect2 = gdspy.Rectangle((x_c + G / 2, y_c - W / 2), (x_c + G / 2 + L, y_c + W / 2))\n",
    "\n",
    "            rect3 = gdspy.Rectangle((x_c - L - G / 2, y_c - W / 2 + P), (x_c - G / 2, y_c + W / 2 + P))\n",
    "            rect4 = gdspy.Rectangle((x_c + G / 2, y_c - W / 2 + P), (x_c + G / 2 + L, y_c + W / 2 + P))\n",
    "\n",
    "            rect5 = gdspy.Rectangle((x_c - L - G / 2, y_c - W / 2 - P), (x_c - G / 2, y_c + W / 2 - P))\n",
    "            rect6 = gdspy.Rectangle((x_c + G / 2, y_c - W / 2 - P), (x_c + G / 2 + L, y_c + W / 2 - P))\n",
    "\n",
    "            cell.add(rect1)\n",
    "            cell.add(rect2)\n",
    "            cell.add(rect3)\n",
    "            cell.add(rect4)\n",
    "            cell.add(rect5)\n",
    "            cell.add(rect6)"
   ]
  },
  {
   "cell_type": "code",
   "execution_count": null,
   "metadata": {},
   "outputs": [],
   "source": [
    "print('GDS writing is started:',time.ctime())"
   ]
  },
  {
   "cell_type": "markdown",
   "metadata": {},
   "source": [
    "# start making circle array"
   ]
  },
  {
   "cell_type": "code",
   "execution_count": 4,
   "metadata": {},
   "outputs": [],
   "source": [
    "locx=[0,50,100,150,200,250,300,350,400]\n",
    "locy=[0,50,100,150,200,250,300,350,400]\n",
    "W=[0.150, 0.200, 0.250, 0.300, 0.350, 0.400]\n",
    "G=[0.150,0.200, 0.250, 0.300, 0.350, 0.400]\n"
   ]
  },
  {
   "cell_type": "markdown",
   "metadata": {},
   "source": [
    "#####\n",
    "##1##\n",
    "#####\n",
    "# place 01-TGAP on layout"
   ]
  },
  {
   "cell_type": "code",
   "execution_count": 6,
   "metadata": {},
   "outputs": [],
   "source": [
    "for x1 in range(0,len(W)):\n",
    "    for y1 in range(0,len(G)):\n",
    "        TGAParray(2, W[x1], G[y1], 3, 3, locx[x1], locy[y1], '?')\n",
    "        # Vertical text\n",
    "        Vindex = gdspy.Text('G:'+str(G[y1]), 3, (locx[x1]-7, locy[y1]+18), horizontal=False)\n",
    "        Pindex = gdspy.Text('P:1.0', 3, (locx[x1] - 10, locy[y1] + 18), horizontal=False)\n",
    "        cell.add(Vindex)\n",
    "        cell.add(Pindex)\n",
    "        # Horizontal text\n",
    "        Hindex = gdspy.Text('01-TGAP-W:'+str(W[x1]), 3, (locx[x1]-10, locy[y1] + 25))\n",
    "        cell.add(Hindex)\n",
    "locx = [x+400 for x in locx]"
   ]
  },
  {
   "cell_type": "code",
   "execution_count": 8,
   "metadata": {},
   "outputs": [
    {
     "name": "stderr",
     "output_type": "stream",
     "text": [
      "C:\\Users\\My\\AppData\\Local\\Temp\\ipykernel_33596\\1312026100.py:1: DeprecationWarning: [GDSPY] Use of the global library is deprecated.  Pass LayoutViewer a GdsLibrary instance.\n",
      "  gdspy.LayoutViewer()\n"
     ]
    },
    {
     "data": {
      "text/plain": [
       "<gdspy.viewer.LayoutViewer object .!layoutviewer>"
      ]
     },
     "execution_count": 8,
     "metadata": {},
     "output_type": "execute_result"
    }
   ],
   "source": [
    "gdspy.LayoutViewer()"
   ]
  },
  {
   "cell_type": "code",
   "execution_count": 9,
   "metadata": {},
   "outputs": [],
   "source": [
    "gdspy.write_gds('TGAP_test.gds')\n"
   ]
  },
  {
   "cell_type": "markdown",
   "metadata": {},
   "source": [
    "# place 02-DTGAP on layout"
   ]
  },
  {
   "cell_type": "code",
   "execution_count": null,
   "metadata": {},
   "outputs": [],
   "source": [
    "for x1 in range(0,len(W)):\n",
    "     for y1 in range(0,len(G)):\n",
    "        DTGAParray(2, W[x1], G[y1],2*W[x1], 3, 3, locx[x1], locy[y1], '?')\n",
    "        # Vertical text\n",
    "        Vindex = gdspy.Text('G:'+str(G[y1]), 3, (locx[x1]-7, locy[y1]+18), horizontal=False)\n",
    "        Pindex = gdspy.Text('P:1.0', 3, (locx[x1] - 10, locy[y1] + 18), horizontal=False)\n",
    "        cell.add(Vindex)\n",
    "        cell.add(Pindex)\n",
    "        # Horizontal text\n",
    "        Hindex = gdspy.Text('02-DTGAP-W:'+str(W[x1]), 3, (locx[x1]-10, locy[y1] + 25))\n",
    "        cell.add(Hindex)\n",
    "locx=gdspy.numpy.array(locx)+400"
   ]
  },
  {
   "cell_type": "markdown",
   "metadata": {},
   "source": [
    "# place 03-TTGAP on layout"
   ]
  },
  {
   "cell_type": "code",
   "execution_count": null,
   "metadata": {},
   "outputs": [],
   "source": [
    "for x1 in range(0,len(W)):\n",
    "     for y1 in range(0,len(G)):\n",
    "        TTGAParray(3, W[x1], G[y1],2*W[x1], 3, 3, locx[x1], locy[y1], '?')\n",
    "        # Vertical text\n",
    "        Vindex = gdspy.Text('G:'+str(G[y1]), 3, (locx[x1]-7, locy[y1]+18), horizontal=False)\n",
    "        Pindex = gdspy.Text('P:1.0', 3, (locx[x1] - 10, locy[y1] + 18), horizontal=False)\n",
    "        cell.add(Vindex)\n",
    "        cell.add(Pindex)\n",
    "        # Horizontal text\n",
    "        Hindex = gdspy.Text('03-TTGAP-W:'+str(W[x1]), 3, (locx[x1]-10, locy[y1] + 25))\n",
    "        cell.add(Hindex)\n",
    "locx=gdspy.numpy.array(locx)+400\n"
   ]
  },
  {
   "cell_type": "code",
   "execution_count": null,
   "metadata": {},
   "outputs": [],
   "source": [
    "#####\n",
    "##4##\n",
    "#####\n",
    "# place 04-FLG on layout\n",
    "for x1 in range(0,len(W)):\n",
    "     for y1 in range(0,len(G)):\n",
    "        FLGarray(3, W[x1], G[y1],2*W[x1], 3, 3, locx[x1], locy[y1], '?')\n",
    "        # Vertical text\n",
    "        Vindex = gdspy.Text('No Gap', 3, (locx[x1]-7, locy[y1]+18), horizontal=False)\n",
    "        Pindex = gdspy.Text('P:1.0', 3, (locx[x1] - 10, locy[y1] + 18), horizontal=False)\n",
    "        cell.add(Vindex)\n",
    "        cell.add(Pindex)\n",
    "        # Horizontal text\n",
    "        Hindex = gdspy.Text('04-FLG-W:'+str(W[x1]), 3, (locx[x1]-10, locy[y1] + 25))\n",
    "        cell.add(Hindex)\n",
    "locx=gdspy.numpy.array(locx)+400\n"
   ]
  },
  {
   "cell_type": "code",
   "execution_count": null,
   "metadata": {},
   "outputs": [],
   "source": [
    "#####\n",
    "##5##\n",
    "#####\n",
    "# place 05-TCL on layout\n",
    "for x1 in range(0,len(W)):\n",
    "     for y1 in range(0,len(G)):\n",
    "        TCLarray(3, W[x1], G[y1],2*W[x1], 3, 3, locx[x1], locy[y1], '?')\n",
    "        # Vertical text\n",
    "        Vindex = gdspy.Text('No Gap', 3, (locx[x1]-7, locy[y1]+18), horizontal=False)\n",
    "        Pindex = gdspy.Text('P:1.0', 3, (locx[x1] - 10, locy[y1] + 18), horizontal=False)\n",
    "        cell.add(Vindex)\n",
    "        cell.add(Pindex)\n",
    "        # Horizontal text\n",
    "        Hindex = gdspy.Text('05-TCL-W:'+str(W[x1]), 3, (locx[x1]-10, locy[y1] + 25))\n",
    "        cell.add(Hindex)\n",
    "locx=gdspy.numpy.array(locx)+400"
   ]
  },
  {
   "cell_type": "code",
   "execution_count": null,
   "metadata": {},
   "outputs": [],
   "source": [
    "#####\n",
    "##6##\n",
    "#####\n",
    "# place 06-UL on layout\n",
    "for x1 in range(0,len(W)):\n",
    "     for y1 in range(0,len(G)):\n",
    "        ULarray(2, W[x1], G[y1],2*W[x1], 3, 3, locx[x1], locy[y1], '?')\n",
    "        # Vertical text\n",
    "        Vindex = gdspy.Text('G:'+str(G[y1]), 3, (locx[x1]-7, locy[y1]+18), horizontal=False)\n",
    "        Pindex = gdspy.Text('P:1.0', 3, (locx[x1] - 10, locy[y1] + 18), horizontal=False)\n",
    "        cell.add(Vindex)\n",
    "        cell.add(Pindex)\n",
    "        # Horizontal text\n",
    "        Hindex = gdspy.Text('06-UL-W:'+str(W[x1]), 3, (locx[x1]-10, locy[y1] + 25))\n",
    "        cell.add(Hindex)\n",
    "locx=gdspy.numpy.array(locx)+400"
   ]
  },
  {
   "cell_type": "code",
   "execution_count": null,
   "metadata": {},
   "outputs": [],
   "source": [
    "#####\n",
    "##7##\n",
    "#####\n",
    "# place 07-ETE on layout\n",
    "for x1 in range(0,len(W)):\n",
    "    for y1 in range(0,len(G)):\n",
    "        ETEarray(1.5, W[x1], G[y1], 3, 3, locx[x1], locy[y1], '?')\n",
    "        # Vertical text\n",
    "        Vindex = gdspy.Text('G:'+str(G[y1]), 3, (locx[x1]-7, locy[y1]+18), horizontal=False)\n",
    "        Pindex = gdspy.Text('P:1.0', 3, (locx[x1] - 10, locy[y1] + 18), horizontal=False)\n",
    "        cell.add(Vindex)\n",
    "        cell.add(Pindex)\n",
    "        # Horizontal text\n",
    "        Hindex = gdspy.Text('07-ETE-W:'+str(W[x1]), 3, (locx[x1]-10, locy[y1] + 25))\n",
    "        cell.add(Hindex)\n",
    "locx=gdspy.numpy.array(locx)+400"
   ]
  },
  {
   "cell_type": "code",
   "execution_count": null,
   "metadata": {},
   "outputs": [],
   "source": [
    "#####\n",
    "##8##\n",
    "#####\n",
    "# place 08-TETE on layout\n",
    "for x1 in range(0,len(W)):\n",
    "     for y1 in range(0,len(G)):\n",
    "        TETEarray(3, W[x1], G[y1],2*W[x1], 3, 3, locx[x1], locy[y1], '?')\n",
    "        # Vertical text\n",
    "        Vindex = gdspy.Text('G:'+str(G[y1]), 3, (locx[x1]-7, locy[y1]+18), horizontal=False)\n",
    "        Pindex = gdspy.Text('P:1.0', 3, (locx[x1] - 10, locy[y1] + 18), horizontal=False)\n",
    "        cell.add(Vindex)\n",
    "        cell.add(Pindex)\n",
    "        # Horizontal text\n",
    "        Hindex = gdspy.Text('08-TETE-W:'+str(W[x1]), 3, (locx[x1]-10, locy[y1] + 25))\n",
    "        cell.add(Hindex)\n",
    "locx=gdspy.numpy.array(locx)+400"
   ]
  },
  {
   "cell_type": "markdown",
   "metadata": {},
   "source": [
    "#######################################\n",
    "###############P=1:1.25################\n",
    "#######################################"
   ]
  },
  {
   "cell_type": "code",
   "execution_count": null,
   "metadata": {},
   "outputs": [],
   "source": [
    "# start making circle array\n",
    "locx=[0,50,100,150,200,250,300,350,400]\n",
    "locy=[0,50,100,150,200,250,300,350,400]\n",
    "W=[0.150, 0.200, 0.250, 0.300, 0.350, 0.400]\n",
    "G=[0.150,0.200, 0.250, 0.300, 0.350, 0.400]\n",
    "locy=gdspy.numpy.array(locy)+400"
   ]
  },
  {
   "cell_type": "code",
   "execution_count": null,
   "metadata": {},
   "outputs": [],
   "source": [
    "#####\n",
    "##1##\n",
    "#####\n",
    "# place 01-TGAP on layout\n",
    "for x1 in range(0,len(W)):\n",
    "    for y1 in range(0,len(G)):\n",
    "        TGAParray(2, W[x1], G[y1], 3, 3, locx[x1], locy[y1], '?')\n",
    "        # Vertical text\n",
    "        Vindex = gdspy.Text('G:'+str(G[y1]), 3, (locx[x1]-7, locy[y1]+18), horizontal=False)\n",
    "        Pindex = gdspy.Text('No P', 3, (locx[x1] - 10, locy[y1] + 18), horizontal=False)\n",
    "        cell.add(Vindex)\n",
    "        cell.add(Pindex)\n",
    "        # Horizontal text\n",
    "        Hindex = gdspy.Text('01-TGAP-W:'+str(W[x1]), 3, (locx[x1]-10, locy[y1] + 25))\n",
    "        cell.add(Hindex)\n",
    "locx=gdspy.numpy.array(locx)+400"
   ]
  },
  {
   "cell_type": "code",
   "execution_count": null,
   "metadata": {},
   "outputs": [],
   "source": [
    "#####\n",
    "##2##\n",
    "#####\n",
    "# place 02-DTGAP on layout\n",
    "for x1 in range(0,len(W)):\n",
    "     for y1 in range(0,len(G)):\n",
    "        DTGAParray(2, W[x1], G[y1],2.5*W[x1], 3, 3, locx[x1], locy[y1], '?')\n",
    "        # Vertical text\n",
    "        Vindex = gdspy.Text('G:'+str(G[y1]), 3, (locx[x1]-7, locy[y1]+18), horizontal=False)\n",
    "        Pindex = gdspy.Text('P:1.25', 3, (locx[x1] - 10, locy[y1] + 18), horizontal=False)\n",
    "        cell.add(Vindex)\n",
    "        cell.add(Pindex)\n",
    "        # Horizontal text\n",
    "        Hindex = gdspy.Text('02-DTGAP-W:'+str(W[x1]), 3, (locx[x1]-10, locy[y1] + 25))\n",
    "        cell.add(Hindex)\n",
    "locx=gdspy.numpy.array(locx)+400"
   ]
  },
  {
   "cell_type": "code",
   "execution_count": null,
   "metadata": {},
   "outputs": [],
   "source": [
    "#####\n",
    "##3##\n",
    "#####\n",
    "# place 03-TTGAP on layout\n",
    "for x1 in range(0,len(W)):\n",
    "     for y1 in range(0,len(G)):\n",
    "        TTGAParray(3, W[x1], G[y1],2*W[x1], 3, 3, locx[x1], locy[y1], '?')\n",
    "        # Vertical text\n",
    "        Vindex = gdspy.Text('G:'+str(G[y1]), 3, (locx[x1]-7, locy[y1]+18), horizontal=False)\n",
    "        Pindex = gdspy.Text('P:1.1', 3, (locx[x1] - 10, locy[y1] + 18), horizontal=False)\n",
    "        cell.add(Vindex)\n",
    "        cell.add(Pindex)\n",
    "        # Horizontal text\n",
    "        Hindex = gdspy.Text('03-TTGAP-W:'+str(W[x1]), 3, (locx[x1]-10, locy[y1] + 25))\n",
    "        cell.add(Hindex)\n",
    "locx=gdspy.numpy.array(locx)+400"
   ]
  },
  {
   "cell_type": "code",
   "execution_count": null,
   "metadata": {},
   "outputs": [],
   "source": [
    "#####\n",
    "##4##\n",
    "#####\n",
    "# place 04-FLG on layout\n",
    "for x1 in range(0,len(W)):\n",
    "     for y1 in range(0,len(G)):\n",
    "        FLGarray(3, W[x1], G[y1],2*W[x1], 3, 3, locx[x1], locy[y1], '?')\n",
    "        # Vertical text\n",
    "        Vindex = gdspy.Text('No Gap', 3, (locx[x1]-7, locy[y1]+18), horizontal=False)\n",
    "        Pindex = gdspy.Text('P:1.1', 3, (locx[x1] - 10, locy[y1] + 18), horizontal=False)\n",
    "        cell.add(Vindex)\n",
    "        cell.add(Pindex)\n",
    "        # Horizontal text\n",
    "        Hindex = gdspy.Text('04-FLG-W:'+str(W[x1]), 3, (locx[x1]-10, locy[y1] + 25))\n",
    "        cell.add(Hindex)\n",
    "locx=gdspy.numpy.array(locx)+400"
   ]
  },
  {
   "cell_type": "code",
   "execution_count": null,
   "metadata": {},
   "outputs": [],
   "source": [
    "\n",
    "#####\n",
    "##5##\n",
    "#####\n",
    "# place 05-TCL on layout\n",
    "for x1 in range(0,len(W)):\n",
    "     for y1 in range(0,len(G)):\n",
    "        TCLarray(3, W[x1], G[y1],2*W[x1], 3, 3, locx[x1], locy[y1], '?')\n",
    "        # Vertical text\n",
    "        Vindex = gdspy.Text('No Gap', 3, (locx[x1]-7, locy[y1]+18), horizontal=False)\n",
    "        Pindex = gdspy.Text('P:1.1', 3, (locx[x1] - 10, locy[y1] + 18), horizontal=False)\n",
    "        cell.add(Vindex)\n",
    "        cell.add(Pindex)\n",
    "        # Horizontal text\n",
    "        Hindex = gdspy.Text('05-TCL-W:'+str(W[x1]), 3, (locx[x1]-10, locy[y1] + 25))\n",
    "        cell.add(Hindex)\n",
    "locx=gdspy.numpy.array(locx)+400"
   ]
  },
  {
   "cell_type": "code",
   "execution_count": null,
   "metadata": {},
   "outputs": [],
   "source": [
    "#####\n",
    "##6##\n",
    "#####\n",
    "# place 06-UL on layout\n",
    "for x1 in range(0,len(W)):\n",
    "     for y1 in range(0,len(G)):\n",
    "        ULarray(2, W[x1], G[y1],2*W[x1], 3, 3, locx[x1], locy[y1], '?')\n",
    "        # Vertical text\n",
    "        Vindex = gdspy.Text('G:'+str(G[y1]), 3, (locx[x1]-7, locy[y1]+18), horizontal=False)\n",
    "        Pindex = gdspy.Text('P:1.1', 3, (locx[x1] - 10, locy[y1] + 18), horizontal=False)\n",
    "        cell.add(Vindex)\n",
    "        cell.add(Pindex)\n",
    "        # Horizontal text\n",
    "        Hindex = gdspy.Text('06-UL-W:'+str(W[x1]), 3, (locx[x1]-10, locy[y1] + 25))\n",
    "        cell.add(Hindex)\n",
    "locx=gdspy.numpy.array(locx)+400"
   ]
  },
  {
   "cell_type": "code",
   "execution_count": null,
   "metadata": {},
   "outputs": [],
   "source": [
    "#####\n",
    "##7##\n",
    "#####\n",
    "# place 07-ETE on layout\n",
    "for x1 in range(0,len(W)):\n",
    "    for y1 in range(0,len(G)):\n",
    "        ETEarray(1.5, W[x1], G[y1], 3, 3, locx[x1], locy[y1], '?')\n",
    "        # Vertical text\n",
    "        Vindex = gdspy.Text('G:'+str(G[y1]), 3, (locx[x1]-7, locy[y1]+18), horizontal=False)\n",
    "        Pindex = gdspy.Text('P:1.1', 3, (locx[x1] - 10, locy[y1] + 18), horizontal=False)\n",
    "        cell.add(Vindex)\n",
    "        cell.add(Pindex)\n",
    "        # Horizontal text\n",
    "        Hindex = gdspy.Text('07-ETE-W:'+str(W[x1]), 3, (locx[x1]-10, locy[y1] + 25))\n",
    "        cell.add(Hindex)\n",
    "locx=gdspy.numpy.array(locx)+400"
   ]
  },
  {
   "cell_type": "code",
   "execution_count": null,
   "metadata": {},
   "outputs": [],
   "source": [
    "#####\n",
    "##8##\n",
    "#####\n",
    "# place 08-TETE on layout\n",
    "for x1 in range(0,len(W)):\n",
    "     for y1 in range(0,len(G)):\n",
    "        TETEarray(3, W[x1], G[y1],2*W[x1], 3, 3, locx[x1], locy[y1], '?')\n",
    "        # Vertical text\n",
    "        Vindex = gdspy.Text('G:'+str(G[y1]), 3, (locx[x1]-7, locy[y1]+18), horizontal=False)\n",
    "        Pindex = gdspy.Text('P:1.1', 3, (locx[x1] - 10, locy[y1] + 18), horizontal=False)\n",
    "        cell.add(Vindex)\n",
    "        cell.add(Pindex)\n",
    "        # Horizontal text\n",
    "        Hindex = gdspy.Text('08-TETE-W:'+str(W[x1]), 3, (locx[x1]-10, locy[y1] + 25))\n",
    "        cell.add(Hindex)\n",
    "\n",
    "locx=gdspy.numpy.array(locx)+400"
   ]
  },
  {
   "cell_type": "code",
   "execution_count": null,
   "metadata": {},
   "outputs": [],
   "source": [
    "#########################################################################################################\n",
    "# Saving outputs\n",
    "#some test structure\n",
    "x_p=0\n",
    "y_p=0\n",
    "cell.add(gdspy.Round((x_p, y_p), 0.02, tolerance=0.001, **Org))\n",
    "cell.add(gdspy.Rectangle((x_p-1, y_p-1), (x_p+1, y_p+1), **CDwindow))\n",
    "\n",
    "# Save all created cells in file 'first.gds'.\n",
    "#cell.add(gdspy.Round((x_p, y_p), 0.02, tolerance=0.001))\n",
    "gdspy.write_gds('PAI_test.gds')\n",
    "print('GDS writing is done:',time.ctime())\n",
    "\n",
    "\n",
    "# Optionally, display all cells using the internal viewer.\n",
    "gdspy.LayoutViewer()"
   ]
  }
 ],
 "metadata": {
  "kernelspec": {
   "display_name": "Python 3",
   "language": "python",
   "name": "python3"
  },
  "language_info": {
   "codemirror_mode": {
    "name": "ipython",
    "version": 3
   },
   "file_extension": ".py",
   "mimetype": "text/x-python",
   "name": "python",
   "nbconvert_exporter": "python",
   "pygments_lexer": "ipython3",
   "version": "3.9.18"
  }
 },
 "nbformat": 4,
 "nbformat_minor": 2
}
