{
 "cells": [
  {
   "cell_type": "code",
   "execution_count": 3,
   "metadata": {},
   "outputs": [],
   "source": [
    "import gdspy \n",
    "import numpy as np"
   ]
  },
  {
   "cell_type": "code",
   "execution_count": 4,
   "metadata": {},
   "outputs": [],
   "source": [
    "cell = gdspy.Cell('Top')\n",
    "\n"
   ]
  },
  {
   "cell_type": "code",
   "execution_count": 7,
   "metadata": {},
   "outputs": [],
   "source": [
    "def ConnectionPads(startx,starty,padgap_vertical = 1000,padgap_horizontal = 1500):\n",
    "\n",
    "    #print(padgap_horizontal)\n",
    "    \n",
    "    x = startx \n",
    "    y = starty\n",
    "\n",
    "    pad_shape = {\"edge1_2\" : 1000,\"edge2_3\" : 500,\"edge3_4\": 500,\"edge4_5\":500,\"edge5_6\":500 }\n",
    "\n",
    "    pts_ref1_x = x-padgap_horizontal/2\n",
    "    pts_ref1_y = y + padgap_vertical/2\n",
    "    pts_ref2_x = x-pad_shape[\"edge1_2\"]-padgap_horizontal/2\n",
    "    pts_ref2_y = y+padgap_vertical/2\n",
    "    pts_ref3_x = x-pad_shape[\"edge1_2\"]-padgap_horizontal/2\n",
    "    pts_ref3_y = y+padgap_vertical/2 + pad_shape[\"edge2_3\"]\n",
    "    pts_ref4_x = x-pad_shape[\"edge1_2\"]/2-padgap_horizontal/2\n",
    "    pts_ref4_y = y+padgap_vertical/2 + pad_shape[\"edge2_3\"]\n",
    "    pts_ref5_x = x-pad_shape[\"edge1_2\"]/2-padgap_horizontal/2\n",
    "    pts_ref5_y = y+padgap_vertical/2 + pad_shape[\"edge2_3\"] + pad_shape[\"edge4_5\"]\n",
    "    pts_ref6_x = x-padgap_horizontal/2\n",
    "    pts_ref6_y = y+padgap_vertical/2 + pad_shape[\"edge2_3\"] + pad_shape[\"edge4_5\"]\n",
    "\n",
    "\n",
    "\n",
    "\n",
    "    pts_TL = [(pts_ref1_x,pts_ref1_y),(pts_ref2_x,pts_ref2_y),(pts_ref3_x,pts_ref3_y),(pts_ref4_x,pts_ref4_y),(pts_ref5_x,pts_ref5_y),(pts_ref6_x,pts_ref6_y)]\n",
    "\n",
    "    \n",
    "\n",
    "    pts_BL = [(pts_ref1_x,pts_ref1_y-padgap_vertical),(pts_ref2_x,pts_ref2_y-padgap_vertical),(pts_ref3_x,pts_ref3_y-padgap_vertical-2*pad_shape[\"edge2_3\"]),\n",
    "              (pts_ref4_x,pts_ref4_y-padgap_vertical-2*pad_shape[\"edge2_3\"]),(pts_ref5_x,pts_ref5_y-padgap_vertical-2*pad_shape[\"edge2_3\"] - 2*pad_shape[\"edge4_5\"]),\n",
    "              (pts_ref6_x,pts_ref6_y-padgap_vertical-2*pad_shape[\"edge2_3\"] - 2*pad_shape[\"edge4_5\"])]\n",
    "\n",
    "    pts_TR = [(pts_ref1_x+padgap_horizontal,pts_ref1_y),(pts_ref2_x+ padgap_horizontal + 2*pad_shape[\"edge1_2\"],pts_ref2_y),\n",
    "              (pts_ref3_x + padgap_horizontal + 2*pad_shape[\"edge1_2\"],pts_ref3_y),\n",
    "              (pts_ref4_x + padgap_horizontal + 2*pad_shape[\"edge5_6\"],pts_ref4_y),\n",
    "              (pts_ref5_x + padgap_horizontal + 2*pad_shape[\"edge5_6\"],pts_ref5_y),\n",
    "              (pts_ref6_x + padgap_horizontal,pts_ref6_y)]\n",
    "\n",
    "    pts_BR = [(pts_ref1_x + padgap_horizontal,pts_ref1_y-padgap_vertical),\n",
    "              (pts_ref2_x + padgap_horizontal + 2*pad_shape[\"edge1_2\"],pts_ref2_y-padgap_vertical),\n",
    "              (pts_ref3_x + padgap_horizontal + 2*pad_shape[\"edge1_2\"],pts_ref3_y-padgap_vertical-2*pad_shape[\"edge2_3\"]),\n",
    "              (pts_ref4_x + padgap_horizontal + 2*pad_shape[\"edge5_6\"],pts_ref4_y-padgap_vertical-2*pad_shape[\"edge2_3\"]),\n",
    "              (pts_ref5_x + padgap_horizontal + 2*pad_shape[\"edge5_6\"],pts_ref5_y-padgap_vertical-2*pad_shape[\"edge2_3\"] - 2*pad_shape[\"edge4_5\"]),\n",
    "              (pts_ref6_x + padgap_horizontal,pts_ref6_y-padgap_vertical-2*pad_shape[\"edge2_3\"] - 2*pad_shape[\"edge4_5\"])]\n",
    "\n",
    "\n",
    "    \n",
    "\n",
    "    pad_TL = gdspy.Polygon(pts_TL)\n",
    "\n",
    "    pad_BL = gdspy.Polygon(pts_BL)\n",
    "\n",
    "    pad_TR = gdspy.Polygon(pts_TR)\n",
    "\n",
    "    pad_BR = gdspy.Polygon(pts_BR)\n",
    "    \n",
    "    cell.add(pad_TL)\n",
    "    cell.add(pad_BL)\n",
    "    cell.add(pad_TR)\n",
    "    cell.add(pad_BR)\n",
    "    "
   ]
  },
  {
   "cell_type": "code",
   "execution_count": 8,
   "metadata": {},
   "outputs": [],
   "source": [
    "# Generate effective pads\n",
    "\n",
    "def ResistorSingleCell(startx,starty,W,G,L):\n",
    "    x = startx\n",
    "    y = starty\n",
    "\n",
    "\n",
    "    pts1_left = (x-W-G/2,y-L/2)\n",
    "    pts2_left = (x-G/2,y+L/2)\n",
    "\n",
    "    pts1_right = (x + W + G/2,y - L/2)\n",
    "    pts2_right = (x + G/2 ,y + L/2)\n",
    "\n",
    "    rect_left = gdspy.Rectangle(pts1_left,pts2_left)\n",
    "    rect2_right = gdspy.Rectangle(pts1_right,pts2_right) \n",
    "\n",
    "    cell.add(rect_left)\n",
    "    cell.add(rect2_right)\n",
    "\n",
    "\n"
   ]
  },
  {
   "cell_type": "code",
   "execution_count": 1,
   "metadata": {},
   "outputs": [],
   "source": [
    "def TextArray(startx,starty,tolx,toly,text = \"WHATEVER\"):\n",
    "\n",
    "    x = startx - tolx \n",
    "    y = starty - toly\n",
    "\n",
    "    text_layout = gdspy.Text(text,100,(x,y))\n",
    "\n",
    "    cell.add(text_layout)\n",
    "    "
   ]
  },
  {
   "cell_type": "code",
   "execution_count": 9,
   "metadata": {},
   "outputs": [
    {
     "name": "stderr",
     "output_type": "stream",
     "text": [
      "/var/folders/1n/_ktjk2zj5jl24zlpy794b6g00000gn/T/ipykernel_25911/3326293360.py:12: DeprecationWarning: [GDSPY] Use of the global library is deprecated.  Pass LayoutViewer a GdsLibrary instance.\n",
      "  gdspy.LayoutViewer()\n"
     ]
    },
    {
     "data": {
      "text/plain": [
       "<gdspy.viewer.LayoutViewer object .!layoutviewer>"
      ]
     },
     "execution_count": 9,
     "metadata": {},
     "output_type": "execute_result"
    },
    {
     "ename": "",
     "evalue": "",
     "output_type": "error",
     "traceback": [
      "\u001b[1;31mThe Kernel crashed while executing code in the current cell or a previous cell. \n",
      "\u001b[1;31mPlease review the code in the cell(s) to identify a possible cause of the failure. \n",
      "\u001b[1;31mClick <a href='https://aka.ms/vscodeJupyterKernelCrash'>here</a> for more info. \n",
      "\u001b[1;31mView Jupyter <a href='command:jupyter.viewOutput'>log</a> for further details."
     ]
    }
   ],
   "source": [
    "## Test chuck\n",
    "\n",
    "# Assume W = 100, G = 100 Then padgap_horizontal = 2W+G = 300\n",
    "\n",
    "\n",
    "ConnectionPads(0,0,1000,300)\n",
    "#ResistorSingleCell(0,0,100,100,3000)\n",
    "TextArray(0,0,10,0,\"G = 10\")\n",
    "\n",
    "\n",
    "\n",
    "gdspy.LayoutViewer()"
   ]
  },
  {
   "cell_type": "code",
   "execution_count": 6,
   "metadata": {},
   "outputs": [
    {
     "data": {
      "text/plain": [
       "<gdspy.library.Cell at 0x7f7df85edfa0>"
      ]
     },
     "execution_count": 6,
     "metadata": {},
     "output_type": "execute_result"
    }
   ],
   "source": [
    "# Remove all polygons\n",
    "\n",
    "cell.remove_polygons(lambda pts, layer, datatype: layer == 0)\n",
    "\n",
    "# Check the layout\n",
    "\n",
    "#gdspy.LayoutViewer()"
   ]
  },
  {
   "cell_type": "code",
   "execution_count": 73,
   "metadata": {},
   "outputs": [],
   "source": [
    "gdspy.write_gds(\"ConnectionPads.gds\")"
   ]
  },
  {
   "cell_type": "markdown",
   "metadata": {},
   "source": [
    "# Place pads and resistor in the array"
   ]
  },
  {
   "cell_type": "code",
   "execution_count": 9,
   "metadata": {},
   "outputs": [
    {
     "name": "stderr",
     "output_type": "stream",
     "text": [
      "/var/folders/1n/_ktjk2zj5jl24zlpy794b6g00000gn/T/ipykernel_20888/1353396402.py:25: DeprecationWarning: [GDSPY] Use of the global library is deprecated.  Pass LayoutViewer a GdsLibrary instance.\n",
      "  gdspy.LayoutViewer()\n",
      "2024-02-14 14:24:54.407 python[20888:637280] _TIPropertyValueIsValid called with 11 on nil context!\n",
      "2024-02-14 14:24:54.407 python[20888:637280] imkxpc_setApplicationProperty:value:reply: called with incorrect property value 11, bailing.\n",
      "2024-02-14 14:24:54.407 python[20888:637280] _TIPropertyValueIsValid called with 12 on nil context!\n",
      "2024-02-14 14:24:54.407 python[20888:637280] imkxpc_setApplicationProperty:value:reply: called with incorrect property value 12, bailing.\n",
      "2024-02-14 14:24:54.428 python[20888:637280] _TIPropertyValueIsValid called with 12 on nil context!\n",
      "2024-02-14 14:24:54.428 python[20888:637280] imkxpc_setApplicationProperty:value:reply: called with incorrect property value 12, bailing.\n"
     ]
    },
    {
     "data": {
      "text/plain": [
       "<gdspy.viewer.LayoutViewer object .!layoutviewer>"
      ]
     },
     "execution_count": 9,
     "metadata": {},
     "output_type": "execute_result"
    }
   ],
   "source": [
    "# Some calculation\n",
    "# Assume 4 x 4 array Initial position is 0,0 。 The distance between each cell (point to point) is d = 2W+G + spacing + 2* pad_edge\n",
    "# assume the single cell distance is 4000(4mm)\n",
    "\n",
    "locx = [0,4000,8000,12000]\n",
    "locy = [0,4000,8000,12000]\n",
    "\n",
    "W = [100,150,200,250]\n",
    "G = [100,150,200,250]\n",
    "\n",
    "L = 3000\n",
    "\n",
    "for i in range(len(W)):\n",
    "    for j in range(len(G)):\n",
    "\n",
    "        # Generate pads \n",
    "        ConnectionPads(startx=locx[i],starty=locy[j],padgap_horizontal=2*W[i]+G[j],padgap_vertical=1000)\n",
    "\n",
    "        # Generate resistor\n",
    "        ResistorSingleCell(startx=locx[i],starty=locy[j],W = W[i],G = G[j],L = 3000)\n",
    "\n",
    "\n",
    "# View the layout \n",
    "\n",
    "gdspy.LayoutViewer()\n"
   ]
  },
  {
   "cell_type": "code",
   "execution_count": 10,
   "metadata": {},
   "outputs": [],
   "source": [
    "gdspy.write_gds(\"4x4Array.gds\")"
   ]
  },
  {
   "cell_type": "code",
   "execution_count": null,
   "metadata": {},
   "outputs": [],
   "source": []
  }
 ],
 "metadata": {
  "kernelspec": {
   "display_name": "PE_gdspy",
   "language": "python",
   "name": "python3"
  },
  "language_info": {
   "codemirror_mode": {
    "name": "ipython",
    "version": 3
   },
   "file_extension": ".py",
   "mimetype": "text/x-python",
   "name": "python",
   "nbconvert_exporter": "python",
   "pygments_lexer": "ipython3",
   "version": "3.9.18"
  }
 },
 "nbformat": 4,
 "nbformat_minor": 2
}
