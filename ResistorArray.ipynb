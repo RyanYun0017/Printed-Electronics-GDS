{
 "cells": [
  {
   "cell_type": "code",
   "execution_count": 1,
   "metadata": {},
   "outputs": [],
   "source": [
    "import gdspy \n",
    "import numpy as np"
   ]
  },
  {
   "cell_type": "code",
   "execution_count": 2,
   "metadata": {},
   "outputs": [],
   "source": [
    "cell = gdspy.Cell('Top')\n",
    "\n"
   ]
  },
  {
   "cell_type": "code",
   "execution_count": 3,
   "metadata": {},
   "outputs": [],
   "source": [
    "def ConnectionPads(startx,starty,padgap_vertical = 1000,padgap_horizontal = 1500,shp = 1):\n",
    "\n",
    "   \n",
    "    ## Setup start position\n",
    "    \n",
    "    x = startx \n",
    "    y = starty\n",
    "\n",
    "    pad_shape_1 = {\"edge1_2\" : -1000,\"edge2_3\" : 500,\"edge3_4\": 500,\"edge4_5\": 500,\"edge5_6\": 500 }\n",
    "    pad_shape_2 = {\"edge1_2\" : -1000,\"edge2_3\" : 1000,\"edge3_4\": 750,\"edge4_5\": -500,\"edge5_6\": 250 }\n",
    "    \n",
    "\n",
    "    if shp == 1:\n",
    "        pad_shape = pad_shape_1\n",
    "    else:\n",
    "        pad_shape = pad_shape_2\n",
    "\n",
    "\n",
    "    pts_ref1_x = x-padgap_horizontal/2\n",
    "    pts_ref1_y = y + padgap_vertical/2\n",
    "    pts_ref2_x = pts_ref1_x + pad_shape[\"edge1_2\"]\n",
    "    pts_ref2_y = pts_ref1_y\n",
    "    pts_ref3_x = pts_ref2_x\n",
    "    pts_ref3_y = pts_ref2_y + pad_shape[\"edge2_3\"]\n",
    "    pts_ref4_x = pts_ref3_x + pad_shape[\"edge3_4\"]\n",
    "    pts_ref4_y = pts_ref3_y\n",
    "    pts_ref5_x = pts_ref4_x\n",
    "    pts_ref5_y = pts_ref4_y + pad_shape[\"edge4_5\"]\n",
    "    pts_ref6_x = pts_ref5_x + pad_shape[\"edge5_6\"]\n",
    "    pts_ref6_y = pts_ref5_y\n",
    "\n",
    "\n",
    "\n",
    "\n",
    "    pts_TL = [(pts_ref1_x,pts_ref1_y),(pts_ref2_x,pts_ref2_y),(pts_ref3_x,pts_ref3_y),(pts_ref4_x,pts_ref4_y),(pts_ref5_x,pts_ref5_y),(pts_ref6_x,pts_ref6_y)]\n",
    "\n",
    "    pts_BL = [(pts_ref1_x,2*y - pts_ref1_y),(pts_ref2_x,2*y - pts_ref2_y),(pts_ref3_x,2*y - pts_ref3_y),(pts_ref4_x,2*y - pts_ref4_y),\n",
    "              (pts_ref5_x,2*y - pts_ref5_y),(pts_ref6_x,2*y - pts_ref6_y)]\n",
    "    \n",
    "    pts_TR = [(2*x-pts_ref1_x,pts_ref1_y),(2*x-pts_ref2_x,pts_ref2_y),(2*x - pts_ref3_x,pts_ref3_y),(2*x - pts_ref4_x,pts_ref4_y),\n",
    "              (2*x - pts_ref5_x,pts_ref5_y),(2*x - pts_ref6_x,pts_ref6_y)]\n",
    "    \n",
    "    pts_BR = [(2*x-pts_ref1_x,2*y - pts_ref1_y),(2*x-pts_ref2_x,2*y - pts_ref2_y),(2*x - pts_ref3_x,2*y - pts_ref3_y),(2*x - pts_ref4_x,2*y - pts_ref4_y),\n",
    "              (2*x - pts_ref5_x,2*y - pts_ref5_y),(2*x - pts_ref6_x,2*y - pts_ref6_y)]\n",
    "\n",
    "\n",
    "    \"\"\" \n",
    "    pts_BL = [(pts_ref1_x,pts_ref1_y-padgap_vertical),(pts_ref2_x,pts_ref2_y-padgap_vertical),(pts_ref3_x,pts_ref3_y-padgap_vertical-2*pad_shape[\"edge2_3\"]),\n",
    "              (pts_ref4_x,pts_ref4_y-padgap_vertical-2*pad_shape[\"edge2_3\"]),(pts_ref5_x,pts_ref5_y-padgap_vertical-2*pad_shape[\"edge2_3\"] - 2*pad_shape[\"edge4_5\"]),\n",
    "              (pts_ref6_x,pts_ref6_y-padgap_vertical-2*pad_shape[\"edge2_3\"] - 2*pad_shape[\"edge4_5\"])]\n",
    "\n",
    "    pts_TR = [(pts_ref1_x+padgap_horizontal,pts_ref1_y),(pts_ref2_x+ padgap_horizontal + 2*pad_shape[\"edge1_2\"],pts_ref2_y),\n",
    "              (pts_ref3_x + padgap_horizontal + 2*pad_shape[\"edge1_2\"],pts_ref3_y),\n",
    "              (pts_ref4_x + padgap_horizontal + 2*pad_shape[\"edge5_6\"],pts_ref4_y),\n",
    "              (pts_ref5_x + padgap_horizontal + 2*pad_shape[\"edge5_6\"],pts_ref5_y),\n",
    "              (pts_ref6_x + padgap_horizontal,pts_ref6_y)]\n",
    "\n",
    "    pts_BR = [(pts_ref1_x + padgap_horizontal,pts_ref1_y-padgap_vertical),\n",
    "              (pts_ref2_x + padgap_horizontal + 2*pad_shape[\"edge1_2\"],pts_ref2_y-padgap_vertical),\n",
    "              (pts_ref3_x + padgap_horizontal + 2*pad_shape[\"edge1_2\"],pts_ref3_y-padgap_vertical-2*pad_shape[\"edge2_3\"]),\n",
    "              (pts_ref4_x + padgap_horizontal + 2*pad_shape[\"edge5_6\"],pts_ref4_y-padgap_vertical-2*pad_shape[\"edge2_3\"]),\n",
    "              (pts_ref5_x + padgap_horizontal + 2*pad_shape[\"edge5_6\"],pts_ref5_y-padgap_vertical-2*pad_shape[\"edge2_3\"] - 2*pad_shape[\"edge4_5\"]),\n",
    "              (pts_ref6_x + padgap_horizontal,pts_ref6_y-padgap_vertical-2*pad_shape[\"edge2_3\"] - 2*pad_shape[\"edge4_5\"])]\n",
    "    \"\"\"\n",
    "    \n",
    "\n",
    "    pad_TL = gdspy.Polygon(pts_TL)\n",
    "\n",
    "    pad_BL = gdspy.Polygon(pts_BL)\n",
    "\n",
    "    pad_TR = gdspy.Polygon(pts_TR)\n",
    "\n",
    "    pad_BR = gdspy.Polygon(pts_BR)\n",
    "    \n",
    "    cell.add(pad_TL)\n",
    "    cell.add(pad_BL)\n",
    "    cell.add(pad_TR)\n",
    "    cell.add(pad_BR)\n",
    "    "
   ]
  },
  {
   "cell_type": "code",
   "execution_count": 4,
   "metadata": {},
   "outputs": [],
   "source": [
    "\n",
    "\n",
    "def ResistorSingleCell(startx,starty,W,G,L):\n",
    "    x = startx\n",
    "    y = starty\n",
    "\n",
    "\n",
    "    pts1_left = (x-W-G/2,y-L/2)\n",
    "    pts2_left = (x-G/2,y+L/2)\n",
    "\n",
    "    pts1_right = (x + W + G/2,y - L/2)\n",
    "    pts2_right = (x + G/2 ,y + L/2)\n",
    "\n",
    "    rect_left = gdspy.Rectangle(pts1_left,pts2_left)\n",
    "    rect2_right = gdspy.Rectangle(pts1_right,pts2_right) \n",
    "\n",
    "    cell.add(rect_left)\n",
    "    cell.add(rect2_right)\n",
    "\n",
    "\n"
   ]
  },
  {
   "cell_type": "code",
   "execution_count": 5,
   "metadata": {},
   "outputs": [],
   "source": [
    "def TextArray(startx,starty,tolx,toly,height,spacing = 0,text = \"WHATEVER\",horizontal = True):\n",
    "\n",
    "    x = startx + tolx\n",
    "    y = starty + toly \n",
    "\n",
    "    \n",
    "\n",
    "\n",
    "    text_layout = gdspy.Text(text,height,(x,y),horizontal= horizontal)\n",
    "\n",
    "    cell.add(text_layout)\n",
    "    "
   ]
  },
  {
   "cell_type": "code",
   "execution_count": 48,
   "metadata": {},
   "outputs": [
    {
     "name": "stderr",
     "output_type": "stream",
     "text": [
      "/var/folders/1n/_ktjk2zj5jl24zlpy794b6g00000gn/T/ipykernel_32896/113903517.py:12: DeprecationWarning: [GDSPY] Use of the global library is deprecated.  Pass LayoutViewer a GdsLibrary instance.\n",
      "  gdspy.LayoutViewer()\n"
     ]
    },
    {
     "data": {
      "text/plain": [
       "<gdspy.viewer.LayoutViewer object .!layoutviewer>"
      ]
     },
     "execution_count": 48,
     "metadata": {},
     "output_type": "execute_result"
    }
   ],
   "source": [
    "## Test chuck\n",
    "\n",
    "# Assume W = 100, G = 100 Then padgap_horizontal = 2W+G = 300\n",
    "\n",
    "\n",
    "ConnectionPads(0,0,1000,300,shp = 2)\n",
    "#ResistorSingleCell(0,0,100,100,3000)\n",
    "#TextArray(0,0,10,0,\"G = 10\")\n",
    "\n",
    "\n",
    "\n",
    "gdspy.LayoutViewer()"
   ]
  },
  {
   "cell_type": "code",
   "execution_count": 10,
   "metadata": {},
   "outputs": [
    {
     "data": {
      "text/plain": [
       "<gdspy.library.Cell at 0x20aa3b6fa60>"
      ]
     },
     "execution_count": 10,
     "metadata": {},
     "output_type": "execute_result"
    }
   ],
   "source": [
    "# Remove all polygons\n",
    "\n",
    "cell.remove_polygons(lambda pts, layer, datatype: layer == 0)\n",
    "\n",
    "# Check the layout\n",
    "\n",
    "#gdspy.LayoutViewer()"
   ]
  },
  {
   "cell_type": "code",
   "execution_count": 73,
   "metadata": {},
   "outputs": [],
   "source": [
    "gdspy.write_gds(\"ConnectionPads.gds\")"
   ]
  },
  {
   "cell_type": "markdown",
   "metadata": {},
   "source": [
    "# Place pads and resistor in the array"
   ]
  },
  {
   "cell_type": "code",
   "execution_count": 17,
   "metadata": {},
   "outputs": [],
   "source": [
    "# Some calculation\n",
    "# Assume 4 x 4 array Initial position is 0,0 。 The distance between each cell (point to point) is d = 2W+G + spacing + 2* pad_edge\n",
    "# assume the single cell distance is 4000(4mm)\n",
    "\n",
    "# Clean the layer before placing\n",
    "cell.remove_polygons(lambda pts, layer, datatype: layer == 0)\n",
    "\n",
    "\n",
    "locx = np.arange(0,3900*10,3900)\n",
    "locy = np.arange(0,3500*10,3500)\n",
    "\n",
    "W = np.arange(150,150+50*10,50)\n",
    "G = np.arange(200,200+25*10,25)\n",
    "\n",
    "\n",
    "\"\"\" \n",
    "locx = [0,3000,6000,9000]\n",
    "locy = [0,3500,7000,10500]\n",
    "\n",
    "W = [100,150,200,250]\n",
    "G = [100,150,200,250]\n",
    "\"\"\"\n",
    "\n",
    "L = 3000\n",
    "\n",
    "for i in range(len(W)):\n",
    "    for j in range(len(G)):\n",
    "\n",
    "        \n",
    "\n",
    "        # Generate pads \n",
    "        ConnectionPads(startx=locx[i],starty=locy[j],padgap_horizontal=2*W[i]+G[j],padgap_vertical=1000,shp=2)\n",
    "\n",
    "        # Generate resistor\n",
    "        ResistorSingleCell(startx=locx[i],starty=locy[j],W = W[i],G = G[j],L = 3000)\n",
    "\n",
    "\n",
    "\n",
    "# View the layout \n",
    "\n",
    "#gdspy.LayoutViewer()\n",
    "#gdspy.write_gds('./Layout/10X10.gds')\n"
   ]
  },
  {
   "cell_type": "code",
   "execution_count": 18,
   "metadata": {},
   "outputs": [
    {
     "name": "stdout",
     "output_type": "stream",
     "text": [
      "-1362.5\n",
      "36912.5\n",
      "-1500.0\n",
      "33000.0\n"
     ]
    }
   ],
   "source": [
    "#cell.get_bounding_box()\n",
    "[[locx_min,locy_min],[locx_max,locy_max]] = cell.get_bounding_box()\n",
    "print(locx_min)\n",
    "print(locx_max)\n",
    "print(locy_min)\n",
    "print(locy_max)"
   ]
  },
  {
   "cell_type": "markdown",
   "metadata": {},
   "source": [
    "# Place text on Layout"
   ]
  },
  {
   "cell_type": "code",
   "execution_count": 19,
   "metadata": {},
   "outputs": [],
   "source": [
    "cur_x = locx_min\n",
    "cur_y = locy_max\n",
    "\n",
    "for i in range(len(W)):\n",
    "    TextArray(cur_x,cur_y,150,300,1500,spacing=0,text=str(int(W[i]/10)))\n",
    "    cur_x = cur_x + 3900\n",
    "\n",
    "#gdspy.LayoutViewer()"
   ]
  },
  {
   "cell_type": "code",
   "execution_count": 20,
   "metadata": {},
   "outputs": [
    {
     "name": "stderr",
     "output_type": "stream",
     "text": [
      "C:\\Users\\My\\AppData\\Local\\Temp\\ipykernel_30480\\113307059.py:9: DeprecationWarning: [GDSPY] Use of the global library is deprecated.  Pass LayoutViewer a GdsLibrary instance.\n",
      "  gdspy.LayoutViewer()\n"
     ]
    },
    {
     "data": {
      "text/plain": [
       "<gdspy.viewer.LayoutViewer object .!layoutviewer>"
      ]
     },
     "execution_count": 20,
     "metadata": {},
     "output_type": "execute_result"
    }
   ],
   "source": [
    "cur_x = locx_min\n",
    "cur_y = locy_min\n",
    "\n",
    "for i in range(len(G)):\n",
    "    if i%2 == 0:\n",
    "        TextArray(cur_x,cur_y,-1500,1500,1500,spacing=0,text=str(int(G[i]/10)), horizontal=False)\n",
    "        cur_y = cur_y + 3500*2\n",
    "\n",
    "gdspy.LayoutViewer()"
   ]
  },
  {
   "cell_type": "code",
   "execution_count": 21,
   "metadata": {},
   "outputs": [],
   "source": [
    "gdspy.write_gds(\"Resistor1.gds\")"
   ]
  }
 ],
 "metadata": {
  "kernelspec": {
   "display_name": "PE_gdspy",
   "language": "python",
   "name": "python3"
  },
  "language_info": {
   "codemirror_mode": {
    "name": "ipython",
    "version": 3
   },
   "file_extension": ".py",
   "mimetype": "text/x-python",
   "name": "python",
   "nbconvert_exporter": "python",
   "pygments_lexer": "ipython3",
   "version": "3.9.18"
  }
 },
 "nbformat": 4,
 "nbformat_minor": 2
}
