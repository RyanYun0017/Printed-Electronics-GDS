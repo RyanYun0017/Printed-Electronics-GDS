{
 "cells": [
  {
   "cell_type": "code",
   "execution_count": 1,
   "metadata": {},
   "outputs": [],
   "source": [
    "import gdspy \n",
    "import numpy as np"
   ]
  },
  {
   "cell_type": "code",
   "execution_count": 2,
   "metadata": {},
   "outputs": [],
   "source": [
    "cell = gdspy.Cell('Top')\n",
    "\n"
   ]
  },
  {
   "cell_type": "code",
   "execution_count": 62,
   "metadata": {},
   "outputs": [],
   "source": [
    "def ConnectionPads(startx,starty,padgap_vertical = 1000,padgap_horizontal = 1500):\n",
    "\n",
    "    print(padgap_horizontal)\n",
    "    \n",
    "    x = startx \n",
    "    y = starty\n",
    "\n",
    "    pad_shape = {\"edge1_2\" : 1000,\"edge2_3\" : 500,\"edge3_4\": 500,\"edge4_5\":500,\"edge5_6\":500 }\n",
    "\n",
    "    pts_ref1_x = x-padgap_horizontal/2\n",
    "    pts_ref1_y = y + padgap_vertical/2\n",
    "    pts_ref2_x = x-pad_shape[\"edge1_2\"]-padgap_horizontal/2\n",
    "    pts_ref2_y = y+padgap_vertical/2\n",
    "    pts_ref3_x = x-pad_shape[\"edge1_2\"]-padgap_horizontal/2\n",
    "    pts_ref3_y = y+padgap_vertical/2 + pad_shape[\"edge2_3\"]\n",
    "    pts_ref4_x = x-pad_shape[\"edge1_2\"]/2-padgap_horizontal/2\n",
    "    pts_ref4_y = y+padgap_vertical/2 + pad_shape[\"edge2_3\"]\n",
    "    pts_ref5_x = x-pad_shape[\"edge1_2\"]/2-padgap_horizontal/2\n",
    "    pts_ref5_y = y+padgap_vertical/2 + pad_shape[\"edge2_3\"] + pad_shape[\"edge4_5\"]\n",
    "    pts_ref6_x = x-padgap_horizontal/2\n",
    "    pts_ref6_y = y+padgap_vertical/2 + pad_shape[\"edge2_3\"] + pad_shape[\"edge4_5\"]\n",
    "\n",
    "\n",
    "\n",
    "\n",
    "    pts_TL = [(pts_ref1_x,pts_ref1_y),(pts_ref2_x,pts_ref2_y),(pts_ref3_x,pts_ref3_y),(pts_ref4_x,pts_ref4_y),(pts_ref5_x,pts_ref5_y),(pts_ref6_x,pts_ref6_y)]\n",
    "\n",
    "    \n",
    "\n",
    "    pts_BL = [(pts_ref1_x,pts_ref1_y-padgap_vertical),(pts_ref2_x,pts_ref2_y-padgap_vertical),(pts_ref3_x,pts_ref3_y-padgap_vertical-2*pad_shape[\"edge2_3\"]),\n",
    "              (pts_ref4_x,pts_ref4_y-padgap_vertical-2*pad_shape[\"edge2_3\"]),(pts_ref5_x,pts_ref5_y-padgap_vertical-2*pad_shape[\"edge2_3\"] - 2*pad_shape[\"edge4_5\"]),\n",
    "              (pts_ref6_x,pts_ref6_y-padgap_vertical-2*pad_shape[\"edge2_3\"] - 2*pad_shape[\"edge4_5\"])]\n",
    "\n",
    "    pts_TR = [(pts_ref1_x+padgap_horizontal,pts_ref1_y),(pts_ref2_x+ padgap_horizontal + 2*pad_shape[\"edge1_2\"],pts_ref2_y),\n",
    "              (pts_ref3_x + padgap_horizontal + 2*pad_shape[\"edge1_2\"],pts_ref3_y),\n",
    "              (pts_ref4_x + padgap_horizontal + 2*pad_shape[\"edge5_6\"],pts_ref4_y),\n",
    "              (pts_ref5_x + padgap_horizontal + 2*pad_shape[\"edge5_6\"],pts_ref5_y),\n",
    "              (pts_ref6_x + padgap_horizontal,pts_ref6_y)]\n",
    "\n",
    "    pts_BR = [(pts_ref1_x + padgap_horizontal,pts_ref1_y-padgap_vertical),\n",
    "              (pts_ref2_x + padgap_horizontal + 2*pad_shape[\"edge1_2\"],pts_ref2_y-padgap_vertical),\n",
    "              (pts_ref3_x + padgap_horizontal + 2*pad_shape[\"edge1_2\"],pts_ref3_y-padgap_vertical-2*pad_shape[\"edge2_3\"]),\n",
    "              (pts_ref4_x + padgap_horizontal + 2*pad_shape[\"edge5_6\"],pts_ref4_y-padgap_vertical-2*pad_shape[\"edge2_3\"]),\n",
    "              (pts_ref5_x + padgap_horizontal + 2*pad_shape[\"edge5_6\"],pts_ref5_y-padgap_vertical-2*pad_shape[\"edge2_3\"] - 2*pad_shape[\"edge4_5\"]),\n",
    "              (pts_ref6_x + padgap_horizontal,pts_ref6_y-padgap_vertical-2*pad_shape[\"edge2_3\"] - 2*pad_shape[\"edge4_5\"])]\n",
    "\n",
    "\n",
    "    \n",
    "\n",
    "    pad_TL = gdspy.Polygon(pts_TL)\n",
    "\n",
    "    pad_BL = gdspy.Polygon(pts_BL)\n",
    "\n",
    "    pad_TR = gdspy.Polygon(pts_TR)\n",
    "\n",
    "    pad_BR = gdspy.Polygon(pts_BR)\n",
    "    \n",
    "    cell.add(pad_TL)\n",
    "    cell.add(pad_BL)\n",
    "    cell.add(pad_TR)\n",
    "    cell.add(pad_BR)\n",
    "    "
   ]
  },
  {
   "cell_type": "code",
   "execution_count": 70,
   "metadata": {},
   "outputs": [],
   "source": [
    "# Generate effective pads\n",
    "\n",
    "def ResistorSingleCell(startx,starty,W,G,L):\n",
    "    x = startx\n",
    "    y = starty\n",
    "\n",
    "\n",
    "    pts1_left = (x-W-G/2,y-L/2)\n",
    "    pts2_left = (x-G/2,y+L/2)\n",
    "\n",
    "    pts1_right = (x + W + G/2,y - L/2)\n",
    "    pts2_right = (x + G/2 ,y + L/2)\n",
    "\n",
    "    rect_left = gdspy.Rectangle(pts1_left,pts2_left)\n",
    "    rect2_right = gdspy.Rectangle(pts1_right,pts2_right) \n",
    "\n",
    "    cell.add(rect_left)\n",
    "    cell.add(rect2_right)\n",
    "\n",
    "\n"
   ]
  },
  {
   "cell_type": "code",
   "execution_count": 72,
   "metadata": {},
   "outputs": [
    {
     "name": "stdout",
     "output_type": "stream",
     "text": [
      "300\n"
     ]
    },
    {
     "name": "stderr",
     "output_type": "stream",
     "text": [
      "/var/folders/1n/_ktjk2zj5jl24zlpy794b6g00000gn/T/ipykernel_86147/1823930942.py:11: DeprecationWarning: [GDSPY] Use of the global library is deprecated.  Pass LayoutViewer a GdsLibrary instance.\n",
      "  gdspy.LayoutViewer()\n"
     ]
    },
    {
     "data": {
      "text/plain": [
       "<gdspy.viewer.LayoutViewer object .!layoutviewer>"
      ]
     },
     "execution_count": 72,
     "metadata": {},
     "output_type": "execute_result"
    }
   ],
   "source": [
    "## Test chuck\n",
    "\n",
    "# Assume W = 100, G = 100 Then padgap_horizontal = 2W+G = 300\n",
    "\n",
    "\n",
    "ConnectionPads(0,0,1000,300)\n",
    "ResistorSingleCell(0,0,100,100,3000)\n",
    "\n",
    "\n",
    "\n",
    "gdspy.LayoutViewer()"
   ]
  },
  {
   "cell_type": "code",
   "execution_count": 71,
   "metadata": {},
   "outputs": [
    {
     "data": {
      "text/plain": [
       "<gdspy.library.Cell at 0x7f88d945e1c0>"
      ]
     },
     "execution_count": 71,
     "metadata": {},
     "output_type": "execute_result"
    }
   ],
   "source": [
    "# Remove all polygons\n",
    "\n",
    "cell.remove_polygons(lambda pts, layer, datatype: layer == 0)\n",
    "\n",
    "# Check the layout\n",
    "\n",
    "#gdspy.LayoutViewer()"
   ]
  },
  {
   "cell_type": "code",
   "execution_count": 73,
   "metadata": {},
   "outputs": [],
   "source": [
    "gdspy.write_gds(\"ConnectionPads.gds\")"
   ]
  }
 ],
 "metadata": {
  "kernelspec": {
   "display_name": "PE_gdspy",
   "language": "python",
   "name": "python3"
  },
  "language_info": {
   "codemirror_mode": {
    "name": "ipython",
    "version": 3
   },
   "file_extension": ".py",
   "mimetype": "text/x-python",
   "name": "python",
   "nbconvert_exporter": "python",
   "pygments_lexer": "ipython3",
   "version": "3.9.18"
  }
 },
 "nbformat": 4,
 "nbformat_minor": 2
}
