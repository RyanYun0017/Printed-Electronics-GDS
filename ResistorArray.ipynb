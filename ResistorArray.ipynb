{
 "cells": [
  {
   "cell_type": "code",
   "execution_count": 1,
   "metadata": {},
   "outputs": [],
   "source": [
    "import gdspy \n",
    "import numpy as np"
   ]
  },
  {
   "cell_type": "code",
   "execution_count": 2,
   "metadata": {},
   "outputs": [],
   "source": [
    "cell = gdspy.Cell('Top')\n",
    "\n"
   ]
  },
  {
   "cell_type": "code",
   "execution_count": 33,
   "metadata": {},
   "outputs": [],
   "source": [
    "def SingleResistor(W,G,L,startx,starty,tolx = 0, toly = 0,padgap_vertical = 1000,padgap_horizontal = 1500):\n",
    "    x = startx + tolx\n",
    "    y = starty + toly\n",
    "\n",
    "    pad_shape = {\"edge1_2\" : 1000,\"edge2_3\" : 500,\"edge3_4\": 500,\"edge4_5\":500,\"edge5_6\":500 }\n",
    "\n",
    "    pts_ref1_x = x-W-G/2\n",
    "    pts_ref1_y = y + padgap_vertical/2\n",
    "    pts_ref2_x = x-W-pad_shape[\"edge1_2\"]-G/2\n",
    "    pts_ref2_y = y+padgap_vertical/2\n",
    "    pts_ref3_x = x-W-pad_shape[\"edge1_2\"]-G/2\n",
    "    pts_ref3_y = y+padgap_vertical/2 + pad_shape[\"edge2_3\"]\n",
    "    pts_ref4_x = x-W-pad_shape[\"edge1_2\"]/2-G/2\n",
    "    pts_ref4_y = y+padgap_vertical/2 + pad_shape[\"edge2_3\"]\n",
    "    pts_ref5_x = x-W-pad_shape[\"edge1_2\"]/2-G/2\n",
    "    pts_ref5_y = y+padgap_vertical/2 + pad_shape[\"edge2_3\"] + pad_shape[\"edge4_5\"]\n",
    "    pts_ref6_x = x-W-G/2\n",
    "    pts_ref6_y = y+padgap_vertical/2 + pad_shape[\"edge2_3\"] + pad_shape[\"edge4_5\"]\n",
    "\n",
    "\n",
    "\n",
    "\n",
    "    pts_TL = [(pts_ref1_x,pts_ref1_y),(pts_ref2_x,pts_ref2_y),(pts_ref3_x,pts_ref3_y),(pts_ref4_x,pts_ref4_y),(pts_ref5_x,pts_ref5_y),(pts_ref6_x,pts_ref6_y)]\n",
    "\n",
    "    \n",
    "\n",
    "    pts_BL = [(pts_ref1_x,pts_ref1_y-padgap_vertical),(pts_ref2_x,pts_ref2_y-padgap_vertical),(pts_ref3_x,pts_ref3_y-padgap_vertical-2*pad_shape[\"edge2_3\"]),\n",
    "              (pts_ref4_x,pts_ref4_y-padgap_vertical-2*pad_shape[\"edge2_3\"]),(pts_ref5_x,pts_ref5_y-padgap_vertical-2*pad_shape[\"edge2_3\"] - 2*pad_shape[\"edge4_5\"]),\n",
    "              (pts_ref6_x,pts_ref6_y-padgap_vertical-2*pad_shape[\"edge2_3\"] - 2*pad_shape[\"edge4_5\"])]\n",
    "\n",
    "    pts_TR = [(pts_ref1_x+padgap_horizontal,pts_ref1_y),(pts_ref2_x+ padgap_horizontal + 2*pad_shape[\"edge1_2\"],pts_ref2_y),\n",
    "              (pts_ref3_x + padgap_horizontal + 2*pad_shape[\"edge1_2\"],pts_ref3_y),\n",
    "              (pts_ref4_x + padgap_horizontal + 2*pad_shape[\"edge5_6\"],pts_ref4_y),\n",
    "              (pts_ref5_x + padgap_horizontal + 2*pad_shape[\"edge5_6\"],pts_ref5_y),\n",
    "              (pts_ref6_x + padgap_horizontal,pts_ref6_y)]\n",
    "\n",
    "    pts_BR = [(pts_ref1_x + padgap_horizontal,pts_ref1_y-padgap_vertical),\n",
    "              (pts_ref2_x + padgap_horizontal + 2*pad_shape[\"edge1_2\"],pts_ref2_y-padgap_vertical),\n",
    "              (pts_ref3_x + padgap_horizontal + 2*pad_shape[\"edge1_2\"],pts_ref3_y-padgap_vertical-2*pad_shape[\"edge2_3\"]),\n",
    "              (pts_ref4_x + padgap_horizontal + 2*pad_shape[\"edge5_6\"],pts_ref4_y-padgap_vertical-2*pad_shape[\"edge2_3\"]),\n",
    "              (pts_ref5_x + padgap_horizontal + 2*pad_shape[\"edge5_6\"],pts_ref5_y-padgap_vertical-2*pad_shape[\"edge2_3\"] - 2*pad_shape[\"edge4_5\"]),\n",
    "              (pts_ref6_x + padgap_horizontal,pts_ref6_y-padgap_vertical-2*pad_shape[\"edge2_3\"] - 2*pad_shape[\"edge4_5\"])]\n",
    "\n",
    "\n",
    "    \n",
    "\n",
    "    pad_TL = gdspy.Polygon(pts_TL)\n",
    "\n",
    "    pad_BL = gdspy.Polygon(pts_BL)\n",
    "\n",
    "    pad_TR = gdspy.Polygon(pts_TR)\n",
    "\n",
    "    pad_BR = gdspy.Polygon(pts_BR)\n",
    "    \n",
    "    cell.add(pad_TL)\n",
    "    cell.add(pad_BL)\n",
    "    cell.add(pad_TR)\n",
    "    cell.add(pad_BR)\n",
    "    "
   ]
  },
  {
   "cell_type": "code",
   "execution_count": 37,
   "metadata": {},
   "outputs": [
    {
     "name": "stderr",
     "output_type": "stream",
     "text": [
      "/var/folders/1n/_ktjk2zj5jl24zlpy794b6g00000gn/T/ipykernel_86147/1077885509.py:9: DeprecationWarning: [GDSPY] Use of the global library is deprecated.  Pass LayoutViewer a GdsLibrary instance.\n",
      "  gdspy.LayoutViewer()\n"
     ]
    },
    {
     "data": {
      "text/plain": [
       "<gdspy.viewer.LayoutViewer object .!layoutviewer>"
      ]
     },
     "execution_count": 37,
     "metadata": {},
     "output_type": "execute_result"
    }
   ],
   "source": [
    "## Test chuck\n",
    "\n",
    "W = 500\n",
    "G = 500\n",
    "L = 100\n",
    "\n",
    "SingleResistor(W,G,L,0,0)\n",
    "\n",
    "gdspy.LayoutViewer()"
   ]
  },
  {
   "cell_type": "code",
   "execution_count": 36,
   "metadata": {},
   "outputs": [
    {
     "data": {
      "text/plain": [
       "<gdspy.library.Cell at 0x7f88d945e1c0>"
      ]
     },
     "execution_count": 36,
     "metadata": {},
     "output_type": "execute_result"
    }
   ],
   "source": [
    "# Remove all polygons\n",
    "\n",
    "cell.remove_polygons(lambda pts, layer, datatype: layer == 0)\n",
    "\n",
    "# Check the layout\n",
    "\n",
    "#gdspy.LayoutViewer()"
   ]
  },
  {
   "cell_type": "code",
   "execution_count": 38,
   "metadata": {},
   "outputs": [],
   "source": [
    "gdspy.write_gds(\"ConnectionPads.gds\")"
   ]
  }
 ],
 "metadata": {
  "kernelspec": {
   "display_name": "PE_gdspy",
   "language": "python",
   "name": "python3"
  },
  "language_info": {
   "codemirror_mode": {
    "name": "ipython",
    "version": 3
   },
   "file_extension": ".py",
   "mimetype": "text/x-python",
   "name": "python",
   "nbconvert_exporter": "python",
   "pygments_lexer": "ipython3",
   "version": "3.9.18"
  }
 },
 "nbformat": 4,
 "nbformat_minor": 2
}
