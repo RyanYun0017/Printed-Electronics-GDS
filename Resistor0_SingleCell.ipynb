{
 "cells": [
  {
   "cell_type": "markdown",
   "metadata": {},
   "source": [
    "# Initialization"
   ]
  },
  {
   "cell_type": "code",
   "execution_count": null,
   "metadata": {},
   "outputs": [],
   "source": [
    "import gdspy \n",
    "import numpy as np\n",
    "\n",
    "cell = gdspy.Cell('Top')"
   ]
  },
  {
   "cell_type": "markdown",
   "metadata": {},
   "source": [
    "# Function to generate connection pads"
   ]
  },
  {
   "cell_type": "code",
   "execution_count": null,
   "metadata": {},
   "outputs": [],
   "source": [
    "def ConnectionPads(startx,starty,padgap_vertical = 1000,padgap_horizontal = 1500,shp = 1):\n",
    "\n",
    "   \n",
    "    \n",
    "    x = startx \n",
    "    y = starty\n",
    "\n",
    "    pad_shape_1 = {\"edge1_2\" : -1000,\"edge2_3\" : 500,\"edge3_4\": 500,\"edge4_5\": 500,\"edge5_6\": 500 }\n",
    "    pad_shape_2 = {\"edge1_2\" : -1000,\"edge2_3\" : 1000,\"edge3_4\": 750,\"edge4_5\": -500,\"edge5_6\": 250 }\n",
    "    \n",
    "\n",
    "    if shp == 1:\n",
    "        pad_shape = pad_shape_1\n",
    "    else:\n",
    "        pad_shape = pad_shape_2\n",
    "\n",
    "\n",
    "    pts_ref1_x = x-padgap_horizontal/2\n",
    "    pts_ref1_y = y + padgap_vertical/2\n",
    "    pts_ref2_x = pts_ref1_x + pad_shape[\"edge1_2\"]\n",
    "    pts_ref2_y = pts_ref1_y\n",
    "    pts_ref3_x = pts_ref2_x\n",
    "    pts_ref3_y = pts_ref2_y + pad_shape[\"edge2_3\"]\n",
    "    pts_ref4_x = pts_ref3_x + pad_shape[\"edge3_4\"]\n",
    "    pts_ref4_y = pts_ref3_y\n",
    "    pts_ref5_x = pts_ref4_x\n",
    "    pts_ref5_y = pts_ref4_y + pad_shape[\"edge4_5\"]\n",
    "    pts_ref6_x = pts_ref5_x + pad_shape[\"edge5_6\"]\n",
    "    pts_ref6_y = pts_ref5_y\n",
    "\n",
    "\n",
    "\n",
    "\n",
    "    pts_TL = [(pts_ref1_x,pts_ref1_y),(pts_ref2_x,pts_ref2_y),(pts_ref3_x,pts_ref3_y),(pts_ref4_x,pts_ref4_y),(pts_ref5_x,pts_ref5_y),(pts_ref6_x,pts_ref6_y)]\n",
    "\n",
    "    pts_BL = [(pts_ref1_x,2*y - pts_ref1_y),(pts_ref2_x,2*y - pts_ref2_y),(pts_ref3_x,2*y - pts_ref3_y),(pts_ref4_x,2*y - pts_ref4_y),\n",
    "              (pts_ref5_x,2*y - pts_ref5_y),(pts_ref6_x,2*y - pts_ref6_y)]\n",
    "    \n",
    "    pts_TR = [(2*x-pts_ref1_x,pts_ref1_y),(2*x-pts_ref2_x,pts_ref2_y),(2*x - pts_ref3_x,pts_ref3_y),(2*x - pts_ref4_x,pts_ref4_y),\n",
    "              (2*x - pts_ref5_x,pts_ref5_y),(2*x - pts_ref6_x,pts_ref6_y)]\n",
    "    \n",
    "    pts_BR = [(2*x-pts_ref1_x,2*y - pts_ref1_y),(2*x-pts_ref2_x,2*y - pts_ref2_y),(2*x - pts_ref3_x,2*y - pts_ref3_y),(2*x - pts_ref4_x,2*y - pts_ref4_y),\n",
    "              (2*x - pts_ref5_x,2*y - pts_ref5_y),(2*x - pts_ref6_x,2*y - pts_ref6_y)]\n",
    "\n",
    "\n",
    "    \"\"\" \n",
    "    pts_BL = [(pts_ref1_x,pts_ref1_y-padgap_vertical),(pts_ref2_x,pts_ref2_y-padgap_vertical),(pts_ref3_x,pts_ref3_y-padgap_vertical-2*pad_shape[\"edge2_3\"]),\n",
    "              (pts_ref4_x,pts_ref4_y-padgap_vertical-2*pad_shape[\"edge2_3\"]),(pts_ref5_x,pts_ref5_y-padgap_vertical-2*pad_shape[\"edge2_3\"] - 2*pad_shape[\"edge4_5\"]),\n",
    "              (pts_ref6_x,pts_ref6_y-padgap_vertical-2*pad_shape[\"edge2_3\"] - 2*pad_shape[\"edge4_5\"])]\n",
    "\n",
    "    pts_TR = [(pts_ref1_x+padgap_horizontal,pts_ref1_y),(pts_ref2_x+ padgap_horizontal + 2*pad_shape[\"edge1_2\"],pts_ref2_y),\n",
    "              (pts_ref3_x + padgap_horizontal + 2*pad_shape[\"edge1_2\"],pts_ref3_y),\n",
    "              (pts_ref4_x + padgap_horizontal + 2*pad_shape[\"edge5_6\"],pts_ref4_y),\n",
    "              (pts_ref5_x + padgap_horizontal + 2*pad_shape[\"edge5_6\"],pts_ref5_y),\n",
    "              (pts_ref6_x + padgap_horizontal,pts_ref6_y)]\n",
    "\n",
    "    pts_BR = [(pts_ref1_x + padgap_horizontal,pts_ref1_y-padgap_vertical),\n",
    "              (pts_ref2_x + padgap_horizontal + 2*pad_shape[\"edge1_2\"],pts_ref2_y-padgap_vertical),\n",
    "              (pts_ref3_x + padgap_horizontal + 2*pad_shape[\"edge1_2\"],pts_ref3_y-padgap_vertical-2*pad_shape[\"edge2_3\"]),\n",
    "              (pts_ref4_x + padgap_horizontal + 2*pad_shape[\"edge5_6\"],pts_ref4_y-padgap_vertical-2*pad_shape[\"edge2_3\"]),\n",
    "              (pts_ref5_x + padgap_horizontal + 2*pad_shape[\"edge5_6\"],pts_ref5_y-padgap_vertical-2*pad_shape[\"edge2_3\"] - 2*pad_shape[\"edge4_5\"]),\n",
    "              (pts_ref6_x + padgap_horizontal,pts_ref6_y-padgap_vertical-2*pad_shape[\"edge2_3\"] - 2*pad_shape[\"edge4_5\"])]\n",
    "    \"\"\"\n",
    "    \n",
    "\n",
    "    pad_TL = gdspy.Polygon(pts_TL)\n",
    "\n",
    "    pad_BL = gdspy.Polygon(pts_BL)\n",
    "\n",
    "    pad_TR = gdspy.Polygon(pts_TR)\n",
    "\n",
    "    pad_BR = gdspy.Polygon(pts_BR)\n",
    "    \n",
    "    cell.add(pad_TL)\n",
    "    cell.add(pad_BL)\n",
    "    cell.add(pad_TR)\n",
    "    cell.add(pad_BR)\n",
    "    "
   ]
  },
  {
   "cell_type": "markdown",
   "metadata": {},
   "source": [
    "# Function to create parallel resistors"
   ]
  },
  {
   "cell_type": "code",
   "execution_count": null,
   "metadata": {},
   "outputs": [],
   "source": [
    "# Generate effective pads\n",
    "\n",
    "def ResistorSingleCell(startx,starty,W,G,L):\n",
    "    x = startx\n",
    "    y = starty\n",
    "\n",
    "\n",
    "    pts1_left = (x-W-G/2,y-L/2)\n",
    "    pts2_left = (x-G/2,y+L/2)\n",
    "\n",
    "    pts1_right = (x + W + G/2,y - L/2)\n",
    "    pts2_right = (x + G/2 ,y + L/2)\n",
    "\n",
    "    rect_left = gdspy.Rectangle(pts1_left,pts2_left)\n",
    "    rect2_right = gdspy.Rectangle(pts1_right,pts2_right) \n",
    "\n",
    "    cell.add(rect_left)\n",
    "    cell.add(rect2_right)\n",
    "\n",
    "\n"
   ]
  },
  {
   "cell_type": "markdown",
   "metadata": {},
   "source": [
    "# Single Cell placement"
   ]
  },
  {
   "cell_type": "code",
   "execution_count": null,
   "metadata": {},
   "outputs": [],
   "source": [
    "# Generate pads \n",
    "ConnectionPads(startx=0,starty=0,padgap_horizontal=2*100+100,padgap_vertical=1000,shp=2)\n",
    "\n",
    "# Generate resistor\n",
    "ResistorSingleCell(startx=0,starty=0,W = 100],G = 100,L = 3000)\n",
    "\n",
    "gdspy.write_gds(\"Resistor0_SingleCell.gds\")"
   ]
  }
 ],
 "metadata": {
  "kernelspec": {
   "display_name": "PE_gdspy",
   "language": "python",
   "name": "python3"
  },
  "language_info": {
   "name": "python",
   "version": "3.9.18"
  }
 },
 "nbformat": 4,
 "nbformat_minor": 2
}
